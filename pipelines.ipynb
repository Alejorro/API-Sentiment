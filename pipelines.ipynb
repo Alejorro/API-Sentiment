{
 "nbformat": 4,
 "nbformat_minor": 2,
 "metadata": {
  "language_info": {
   "name": "python",
   "codemirror_mode": {
    "name": "ipython",
    "version": 3
   },
   "version": "3.6.9-final"
  },
  "orig_nbformat": 2,
  "file_extension": ".py",
  "mimetype": "text/x-python",
  "name": "python",
  "npconvert_exporter": "python",
  "pygments_lexer": "ipython3",
  "version": 3,
  "kernelspec": {
   "name": "python36964bit393d81eb15b54b0093ea31921d80c86d",
   "display_name": "Python 3.6.9 64-bit"
  }
 },
 "cells": [
  {
   "cell_type": "markdown",
   "metadata": {},
   "source": [
    "## API - Análisis de sentimientos"
   ]
  },
  {
   "cell_type": "markdown",
   "metadata": {},
   "source": [
    "**Librerías importadas**"
   ]
  },
  {
   "cell_type": "code",
   "execution_count": 38,
   "metadata": {},
   "outputs": [],
   "source": [
    "import requests"
   ]
  },
  {
   "cell_type": "markdown",
   "metadata": {},
   "source": [
    "## Estructura de Database"
   ]
  },
  {
   "cell_type": "markdown",
   "metadata": {},
   "source": [
    "** Ejemplo de documento en colección Usuarios**"
   ]
  },
  {
   "cell_type": "markdown",
   "metadata": {},
   "source": [
    "<img src=\"Input/userMongo.png\">"
   ]
  },
  {
   "cell_type": "markdown",
   "metadata": {},
   "source": [
    "** Ejemplo de documento en colección Chats**"
   ]
  },
  {
   "cell_type": "markdown",
   "metadata": {},
   "source": [
    "<img src=\"Input/chatMongo.png\">"
   ]
  },
  {
   "cell_type": "markdown",
   "metadata": {},
   "source": [
    "## Operaciones básicas"
   ]
  },
  {
   "cell_type": "markdown",
   "metadata": {},
   "source": [
    "**Añadir usuario**"
   ]
  },
  {
   "cell_type": "markdown",
   "metadata": {},
   "source": [
    "Atendiendo a la filosofía Whatsapp, mientras que los ID (números de teléfono) son únicos por usuario, los nombres de usuario no son únicos por usuario."
   ]
  },
  {
   "cell_type": "code",
   "execution_count": 39,
   "metadata": {},
   "outputs": [
    {
     "data": {
      "text/plain": "'Creado Marcos con index 27'"
     },
     "execution_count": 39,
     "metadata": {},
     "output_type": "execute_result"
    }
   ],
   "source": [
    "usuarioCreado = requests.get(f\"http://0.0.0.0:4500/user/create/Marcos\").text\n",
    "\n",
    "usuarioCreado\n"
   ]
  },
  {
   "cell_type": "markdown",
   "metadata": {},
   "source": [
    "**Crear Chat**"
   ]
  },
  {
   "cell_type": "markdown",
   "metadata": {},
   "source": [
    "Si algún usuario añadido no existe, se creará automáticamente.\n",
    "\n",
    "Si algún usuario añadido ya existe, se unirá automáticamente."
   ]
  },
  {
   "cell_type": "code",
   "execution_count": 40,
   "metadata": {},
   "outputs": [
    {
     "data": {
      "text/plain": "'Creado chat 13 con Pablo,Juan'"
     },
     "execution_count": 40,
     "metadata": {},
     "output_type": "execute_result"
    }
   ],
   "source": [
    "chatCreado = requests.get(f\"http://0.0.0.0:4500/chat/create/?usernames=Pablo,Juan\").text\n",
    "\n",
    "chatCreado"
   ]
  },
  {
   "cell_type": "markdown",
   "metadata": {},
   "source": [
    "**Añadir usuario a chat ya creado anteriormente**"
   ]
  },
  {
   "cell_type": "markdown",
   "metadata": {},
   "source": [
    "Si algún usuario añadido no existe, se creará automáticamente.\n",
    "\n",
    "Si algún usuario añadido ya existe, se unirá automáticamente."
   ]
  },
  {
   "cell_type": "code",
   "execution_count": 41,
   "metadata": {},
   "outputs": [
    {
     "data": {
      "text/plain": "'Juan se ha unido en chat 1'"
     },
     "execution_count": 41,
     "metadata": {},
     "output_type": "execute_result"
    }
   ],
   "source": [
    "chatId = 1\n",
    "\n",
    "userAdded = requests.get(f\"http://0.0.0.0:4500/chat/{chatId}/adduser?username=Juan\").text\n",
    "\n",
    "userAdded"
   ]
  },
  {
   "cell_type": "markdown",
   "metadata": {},
   "source": [
    "**Añadir mensaje a chat**"
   ]
  },
  {
   "cell_type": "markdown",
   "metadata": {},
   "source": [
    "Los mensajes de usuarios no creados o no unidos al chat seleccionado, arrojarán su error correspondiente.\n",
    "\n",
    "Sólo se permite un usuario por mensaje con esta request."
   ]
  },
  {
   "cell_type": "code",
   "execution_count": 42,
   "metadata": {},
   "outputs": [
    {
     "data": {
      "text/plain": "\"Añadido mensaje al chat 1, Juan: ['Mi primerita API']\""
     },
     "execution_count": 42,
     "metadata": {},
     "output_type": "execute_result"
    }
   ],
   "source": [
    "postMessage = {'text': 'Mi primerita API'}\n",
    "chatId = 1\n",
    "\n",
    "messageAdded = requests.post(f\"http://0.0.0.0:4500/chat/{chatId}/addmessage?username=Juan\",json = postMessage).text\n",
    "\n",
    "messageAdded\n"
   ]
  },
  {
   "cell_type": "markdown",
   "metadata": {},
   "source": [
    "## Respuestas básicas"
   ]
  },
  {
   "cell_type": "markdown",
   "metadata": {},
   "source": [
    "Cualquiera de las respuestas puede almacenarse como JSON, indicando el parámetro \"exportJson = True\""
   ]
  },
  {
   "cell_type": "markdown",
   "metadata": {},
   "source": [
    "**Obtención de todos los mensajes de un chat**"
   ]
  },
  {
   "cell_type": "markdown",
   "metadata": {},
   "source": [
    "Con el parámetro \"Simple = True\", se devuelve un Json con todos los mensajes del chat especificado.\n",
    "\n",
    "Con el parámetro \"Simple = False\" (predeterminado), se devuelve un Json con todos los detalles de los mensajes en el chat especificado."
   ]
  },
  {
   "cell_type": "code",
   "execution_count": 43,
   "metadata": {},
   "outputs": [
    {
     "data": {
      "text/plain": "{'Messages': ['Menos mal',\n  'Mi primerita API',\n  'Mi pria API',\n  'Mi primerita API',\n  'Mi primerita API']}"
     },
     "execution_count": 43,
     "metadata": {},
     "output_type": "execute_result"
    }
   ],
   "source": [
    "params = True\n",
    "chatId = 3\n",
    "\n",
    "listChat1 = requests.get(f\"http://0.0.0.0:4500/chat/{chatId}/list?simple={params}\").json()\n",
    "\n",
    "listChat1"
   ]
  },
  {
   "cell_type": "code",
   "execution_count": 44,
   "metadata": {},
   "outputs": [
    {
     "data": {
      "text/plain": "{'messages': [{'user_id': '10',\n   'message': ['Menos mal', 'Mi primerita API', 'Mi pria API']},\n  {'user_id': '9', 'message': ['Mi primerita API', 'Mi primerita API']}]}"
     },
     "execution_count": 44,
     "metadata": {},
     "output_type": "execute_result"
    }
   ],
   "source": [
    "chatId = 3\n",
    "\n",
    "listChat1 = requests.get(f\"http://0.0.0.0:4500/chat/{chatId}/list\").json()\n",
    "\n",
    "listChat1"
   ]
  },
  {
   "cell_type": "markdown",
   "metadata": {},
   "source": [
    "**Obtención de sentimientos de un chat completo**"
   ]
  },
  {
   "cell_type": "markdown",
   "metadata": {},
   "source": [
    "Se utiliza TextBlow de forma predeterminada cuando la API de traducción falla (Error 429: Too Many Request)\n",
    "\n",
    "Se utiliza Vader de forma predeterminada cuando la API de traducción funciona bien.\n",
    "\n",
    "Se puede alternar este comportamiento a placer con el parámetro \"Alter=True\""
   ]
  },
  {
   "cell_type": "code",
   "execution_count": 45,
   "metadata": {},
   "outputs": [
    {
     "data": {
      "text/plain": "{'Positivo': 0.0, 'Negativo': 0.0, 'Neutral': 14.0}"
     },
     "execution_count": 45,
     "metadata": {},
     "output_type": "execute_result"
    }
   ],
   "source": [
    "params = True\n",
    "chatId = 3\n",
    "\n",
    "listChat1 = requests.get(f\"http://0.0.0.0:4500/chat/{chatId}/sentiment?alter={params}\").json()\n",
    "\n",
    "listChat1"
   ]
  },
  {
   "cell_type": "code",
   "execution_count": 46,
   "metadata": {},
   "outputs": [
    {
     "data": {
      "text/plain": "['Impacto positivo = 21.428571428571427% con 14 ejemplos',\n 'Impacto negativo = 78.57142857142857% con 14 ejemplos']"
     },
     "execution_count": 46,
     "metadata": {},
     "output_type": "execute_result"
    }
   ],
   "source": [
    "chatId = 3\n",
    "\n",
    "listChat2 = requests.get(f\"http://0.0.0.0:4500/chat/{chatId}/sentiment\").json()\n",
    "\n",
    "listChat2"
   ]
  },
  {
   "cell_type": "markdown",
   "metadata": {},
   "source": [
    "**Obtención de recomendaciones para un usuario concreto**"
   ]
  },
  {
   "cell_type": "code",
   "execution_count": 60,
   "metadata": {},
   "outputs": [
    {
     "data": {
      "text/plain": "{\"'3'\": ['10', '16', '9']}"
     },
     "execution_count": 60,
     "metadata": {},
     "output_type": "execute_result"
    }
   ],
   "source": [
    "\n",
    "userId = 3\n",
    "\n",
    "recomUser = requests.get(f\"http://0.0.0.0:4500/user/'{userId}'/recommend\").json()\n",
    "\n",
    "recomUser"
   ]
  },
  {
   "cell_type": "markdown",
   "metadata": {},
   "source": [
    "## Gracias por su atención"
   ]
  }
 ]
}